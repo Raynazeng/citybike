{
 "cells": [
  {
   "cell_type": "code",
   "execution_count": 71,
   "metadata": {},
   "outputs": [],
   "source": [
    "import numpy as np\n",
    "import matplotlib.pyplot as plt\n",
    "import pandas as pd\n",
    "import math\n",
    "import json\n",
    "import warnings\n",
    "from pyproj import Proj, transform\n",
    "warnings.filterwarnings(\"ignore\", category=FutureWarning)"
   ]
  },
  {
   "cell_type": "markdown",
   "metadata": {},
   "source": [
    "## Load Data"
   ]
  },
  {
   "cell_type": "code",
   "execution_count": 82,
   "metadata": {},
   "outputs": [
    {
     "name": "stderr",
     "output_type": "stream",
     "text": [
      "/var/folders/kd/fd9nkzkd44lc1yw7pn5qkljc0000gn/T/ipykernel_21442/3925547787.py:2: DtypeWarning: Columns (5,7) have mixed types. Specify dtype option on import or set low_memory=False.\n",
      "  data0 = pd.read_csv('202307-citibike-tripdata.csv')\n"
     ]
    },
    {
     "data": {
      "text/plain": [
       "3776256"
      ]
     },
     "execution_count": 82,
     "metadata": {},
     "output_type": "execute_result"
    }
   ],
   "source": [
    "# import and load the citybike dataset as df0\n",
    "data0 = pd.read_csv('202307-citibike-tripdata.csv')\n",
    "df0 = pd.DataFrame(data0)\n",
    "len(df0)"
   ]
  },
  {
   "cell_type": "code",
   "execution_count": 79,
   "metadata": {},
   "outputs": [],
   "source": [
    "# import and load the capacity dataset as df1\n",
    "with open('citibike_station_information.json', 'r') as json_file:\n",
    "    data1 = json.load(json_file)\n",
    "json_file.close()\n",
    "df1 = pd.DataFrame(data1['data']['stations'])"
   ]
  },
  {
   "cell_type": "markdown",
   "metadata": {},
   "source": [
    "## Data Preparation"
   ]
  },
  {
   "cell_type": "code",
   "execution_count": 83,
   "metadata": {},
   "outputs": [
    {
     "name": "stdout",
     "output_type": "stream",
     "text": [
      "3767484\n"
     ]
    }
   ],
   "source": [
    "# drop the nan values in the dataset\n",
    "df0 = df0.dropna(subset=['start_station_id', 'end_station_id','started_at','ended_at'])\n",
    "print(len(df0))"
   ]
  },
  {
   "cell_type": "code",
   "execution_count": 187,
   "metadata": {},
   "outputs": [
    {
     "name": "stdout",
     "output_type": "stream",
     "text": [
      "3766648\n"
     ]
    }
   ],
   "source": [
    "# extract all current station ids\n",
    "start_id = df0[\"start_station_id\"]\n",
    "end_id = df0[\"end_station_id\"]\n",
    "all_station_id = list(set(start_id).union(set(end_id)))\n",
    "# change the station names from string to float, and drop those values that are non-numerical, because these stations are not in NYC and have different namings\n",
    "non_numeric_values0 = [\n",
    "    x for x in all_station_id if not isinstance(x, (int, float))]\n",
    "station_id_1 = [float(num_str) if num_str.replace(\n",
    "    '.', '', 1).isdigit() else num_str for num_str in non_numeric_values0]\n",
    "non_numeric_values1 = [\n",
    "    x for x in station_id_1 if not isinstance(x, (int, float))]\n",
    "\n",
    "mask = (df0['start_station_id'].isin(non_numeric_values1)) | (\n",
    "    df0['end_station_id'].isin(non_numeric_values1))\n",
    "df0 = df0[~mask]\n",
    "print(len(df0))\n"
   ]
  },
  {
   "cell_type": "code",
   "execution_count": 189,
   "metadata": {},
   "outputs": [
    {
     "data": {
      "text/html": [
       "<div>\n",
       "<style scoped>\n",
       "    .dataframe tbody tr th:only-of-type {\n",
       "        vertical-align: middle;\n",
       "    }\n",
       "\n",
       "    .dataframe tbody tr th {\n",
       "        vertical-align: top;\n",
       "    }\n",
       "\n",
       "    .dataframe thead th {\n",
       "        text-align: right;\n",
       "    }\n",
       "</style>\n",
       "<table border=\"1\" class=\"dataframe\">\n",
       "  <thead>\n",
       "    <tr style=\"text-align: right;\">\n",
       "      <th></th>\n",
       "      <th>ride_id</th>\n",
       "      <th>rideable_type</th>\n",
       "      <th>started_at</th>\n",
       "      <th>ended_at</th>\n",
       "      <th>start_station_name</th>\n",
       "      <th>start_station_id</th>\n",
       "      <th>end_station_name</th>\n",
       "      <th>end_station_id</th>\n",
       "      <th>start_lat</th>\n",
       "      <th>start_lng</th>\n",
       "      <th>end_lat</th>\n",
       "      <th>end_lng</th>\n",
       "      <th>member_casual</th>\n",
       "    </tr>\n",
       "  </thead>\n",
       "  <tbody>\n",
       "  </tbody>\n",
       "</table>\n",
       "</div>"
      ],
      "text/plain": [
       "Empty DataFrame\n",
       "Columns: [ride_id, rideable_type, started_at, ended_at, start_station_name, start_station_id, end_station_name, end_station_id, start_lat, start_lng, end_lat, end_lng, member_casual]\n",
       "Index: []"
      ]
     },
     "execution_count": 189,
     "metadata": {},
     "output_type": "execute_result"
    }
   ],
   "source": [
    "df0[df0['start_station_id'].isin(non_numeric_values1)]"
   ]
  },
  {
   "cell_type": "code",
   "execution_count": 190,
   "metadata": {},
   "outputs": [],
   "source": [
    "# change the time to datetime for the following analysis and add hour of day\n",
    "df0['started_at'] = pd.to_datetime(df0['started_at'])\n",
    "df0['hour_of_day_start'] = df0['started_at'].dt.hour\n",
    "df0['ended_at'] = pd.to_datetime(df0['ended_at'])\n",
    "df0['hour_of_day_end'] = df0['ended_at'].dt.hour"
   ]
  },
  {
   "cell_type": "code",
   "execution_count": 191,
   "metadata": {},
   "outputs": [],
   "source": [
    "# change the string of numbers to float to match all data type\n",
    "df0['start_station_id'] = [float(num_str) if str(num_str).replace(\n",
    "    '.', '', 1).isdigit() else num_str for num_str in df0['start_station_id']]\n",
    "df0['end_station_id'] = [float(num_str) if str(num_str).replace(\n",
    "    '.', '', 1).isdigit() else num_str for num_str in df0['end_station_id']]"
   ]
  },
  {
   "cell_type": "code",
   "execution_count": 192,
   "metadata": {},
   "outputs": [],
   "source": [
    "# extract the current all station ids that are in NYC\n",
    "start_id = df0[\"start_station_id\"]\n",
    "end_id = df0[\"end_station_id\"]\n",
    "all_station_id = sorted(list(set(start_id).union(set(end_id))))"
   ]
  },
  {
   "cell_type": "code",
   "execution_count": 193,
   "metadata": {},
   "outputs": [],
   "source": [
    "# extract all station ids that are in the capacity dataset\n",
    "stations_with_d = df1['short_name']\n",
    "all_stations_with_d = [float(num_str) if num_str.replace(\n",
    "    '.', '', 1).isdigit() else num_str for num_str in stations_with_d]\n"
   ]
  },
  {
   "cell_type": "code",
   "execution_count": 194,
   "metadata": {},
   "outputs": [
    {
     "data": {
      "text/plain": [
       "3701027"
      ]
     },
     "execution_count": 194,
     "metadata": {},
     "output_type": "execute_result"
    }
   ],
   "source": [
    "# compare these datasets and delete any stations that are in the df0 but not in df1, becuase \n",
    "set1 = set(all_station_id)\n",
    "set2 = set(all_stations_with_d)\n",
    "difference = list(set1 - set2)\n",
    "difference1 = list(set2 - set1)\n",
    "condition = ~df0['start_station_id'].isin(\n",
    "    difference) & ~df0['end_station_id'].isin(difference)\n",
    "df0 = df0[condition]\n",
    "len(df0)"
   ]
  },
  {
   "cell_type": "code",
   "execution_count": 195,
   "metadata": {},
   "outputs": [
    {
     "name": "stdout",
     "output_type": "stream",
     "text": [
      "2537448\n"
     ]
    }
   ],
   "source": [
    "# filter out 0am - 5am\n",
    "time_mask = (df0['hour_of_day_start'] < 5) \n",
    "df0 = df0[~time_mask]\n",
    "# filter out the weekend\n",
    "weekend_mask = (df0['started_at'].dt.dayofweek >= 5) & (\n",
    "    df0['ended_at'].dt.dayofweek >= 5)\n",
    "df0 = df0[~weekend_mask]\n",
    "print(len(df0))"
   ]
  },
  {
   "cell_type": "code",
   "execution_count": 196,
   "metadata": {},
   "outputs": [],
   "source": [
    "df = df0.reset_index(drop=True)\n",
    "df1['short_name'] = [float(num_str) if str(num_str).replace(\n",
    "    '.', '', 1).isdigit() else num_str for num_str in df1['short_name']]"
   ]
  },
  {
   "cell_type": "markdown",
   "metadata": {},
   "source": [
    "## Extract Station List"
   ]
  },
  {
   "cell_type": "code",
   "execution_count": 197,
   "metadata": {},
   "outputs": [],
   "source": [
    "start_id = df[\"start_station_id\"]\n",
    "end_id = df[\"end_station_id\"]\n",
    "all_station_id = sorted(list(set(start_id).union(set(end_id))))\n",
    "number_of_station = len(all_station_id)"
   ]
  },
  {
   "cell_type": "markdown",
   "metadata": {},
   "source": [
    "## Arrival Rate for Each Station"
   ]
  },
  {
   "cell_type": "code",
   "execution_count": 14,
   "metadata": {},
   "outputs": [],
   "source": [
    "bikeout_for_all_station = []\n",
    "for i in range(number_of_station):\n",
    "    # extract all the rows from df with a specific given station_id\n",
    "    one_station = df[df['start_station_id'] == all_station_id[i]]\n",
    "    hourly_bikeout_counts = one_station['hour_of_day_start'].value_counts().sort_index()\n",
    "    all_hours = list(range(5, 24))\n",
    "    hourly_bikeout_counts = hourly_bikeout_counts.reindex(all_hours, fill_value=0)\n",
    "    hourly_bikeout_count_list = hourly_bikeout_counts.tolist()\n",
    "    average_bikeout_rate = [x / 21 for x in hourly_bikeout_count_list]\n",
    "    bikeout_for_all_station.append(average_bikeout_rate)\n",
    "\n",
    "bikeout_for_all_station = np.array(bikeout_for_all_station)"
   ]
  },
  {
   "cell_type": "markdown",
   "metadata": {},
   "source": [
    "## Transitional Matrices"
   ]
  },
  {
   "cell_type": "code",
   "execution_count": 15,
   "metadata": {},
   "outputs": [
    {
     "name": "stdout",
     "output_type": "stream",
     "text": [
      "5\n",
      "6\n",
      "7\n",
      "8\n",
      "9\n",
      "10\n",
      "11\n",
      "12\n",
      "13\n",
      "14\n",
      "15\n",
      "16\n",
      "17\n",
      "18\n",
      "19\n",
      "20\n",
      "21\n",
      "22\n",
      "23\n"
     ]
    }
   ],
   "source": [
    "transitional_matrix = []\n",
    "for j in range(5, 24):\n",
    "    transitional_matrix_for_specific_time = []\n",
    "    for i in range(number_of_station):\n",
    "        starting_from_i = df[(df['start_station_id'] == all_station_id[i]) & (\n",
    "            df['hour_of_day_start'] == j)]\n",
    "          # this is the df from specific station\n",
    "        s = len(starting_from_i)\n",
    "        if s == 0:\n",
    "            probability = [0] * number_of_station\n",
    "            probability[i] = 1\n",
    "            \n",
    "\n",
    "        else:\n",
    "            station_counts = starting_from_i['end_station_id'].value_counts()\n",
    "            dict_of_station_and_count = pd.DataFrame(\n",
    "                {'end_station_id': station_counts.index, 'count': station_counts.values})\n",
    "            count_dict = dict(zip(\n",
    "                dict_of_station_and_count['end_station_id'], dict_of_station_and_count['count']))\n",
    "            count_list = [count_dict.get(station_id, 0)\n",
    "                          for station_id in all_station_id]\n",
    "            probability = [x / s for x in count_list]\n",
    "            \n",
    "        transitional_matrix_for_specific_time.append(probability)\n",
    "    print(j)\n",
    "    transitional_matrix.append(transitional_matrix_for_specific_time)"
   ]
  },
  {
   "cell_type": "markdown",
   "metadata": {},
   "source": [
    "## Return Rate for Each Station"
   ]
  },
  {
   "cell_type": "code",
   "execution_count": 16,
   "metadata": {},
   "outputs": [],
   "source": [
    "transitional_matrix = np.array(transitional_matrix)\n",
    "bikeout_for_all_station = np.array(bikeout_for_all_station)\n",
    "bikein_for_all_station = []\n",
    "for i in range(number_of_station):\n",
    "    average_bikein_rate_for_one_station = []\n",
    "    for j in range(5, 24):\n",
    "        list1 = transitional_matrix[j-5][:, i]\n",
    "\n",
    "        list2 = bikeout_for_all_station[:, j-5]\n",
    "\n",
    "        rate_for_station_time = np.sum(list1 * list2)\n",
    "\n",
    "        average_bikein_rate_for_one_station.append(rate_for_station_time)\n",
    "\n",
    "    bikein_for_all_station.append(average_bikein_rate_for_one_station)\n"
   ]
  },
  {
   "cell_type": "markdown",
   "metadata": {},
   "source": [
    "## Compare for extracting directly from data"
   ]
  },
  {
   "cell_type": "code",
   "execution_count": 17,
   "metadata": {},
   "outputs": [
    {
     "data": {
      "text/plain": [
       "(0.0, 60.0, 0.0, 60.0)"
      ]
     },
     "execution_count": 17,
     "metadata": {},
     "output_type": "execute_result"
    },
    {
     "data": {
      "image/png": "[encoded data removed]",
      "text/plain": [
       "<Figure size 640x480 with 1 Axes>"
      ]
     },
     "metadata": {},
     "output_type": "display_data"
    }
   ],
   "source": [
    "bikein_for_all_station1 = []\n",
    "for i in range(number_of_station):\n",
    "    # extract all the rows from df with a specific given station_id\n",
    "    one_station = df[df['end_station_id'] == all_station_id[i]]\n",
    "    hourly_bikein_counts = one_station['hour_of_day_end'].value_counts(\n",
    "    ).sort_index()\n",
    "    all_hours = list(range(0, 24))\n",
    "    hourly_bikein_counts = hourly_bikein_counts.reindex(\n",
    "        all_hours, fill_value=0)\n",
    "    hourly_bikein_count_list = hourly_bikein_counts.tolist()\n",
    "    average_bikein_rate = [x / 21 for x in hourly_bikein_count_list]\n",
    "    bikein_for_all_station1.append(average_bikein_rate)\n",
    "bikein_for_all_station1 = [row[5:] for row in bikein_for_all_station1]\n",
    "llist1 = [elem for row in bikein_for_all_station1 for elem in row]\n",
    "llist2 = [elem for row in bikein_for_all_station for elem in row]\n",
    "plt.scatter(llist1, llist2)\n",
    "plt.axis([0, 60, 0, 60])"
   ]
  },
  {
   "cell_type": "markdown",
   "metadata": {},
   "source": [
    "## Function for number of unhappy user"
   ]
  },
  {
   "cell_type": "code",
   "execution_count": 18,
   "metadata": {},
   "outputs": [],
   "source": [
    "p = 1"
   ]
  },
  {
   "cell_type": "code",
   "execution_count": 19,
   "metadata": {},
   "outputs": [],
   "source": [
    "def number_of_unhappy_user(i, d, x0, period):\n",
    "    lambda_i = bikein_for_all_station[i]\n",
    "    mu_i = bikeout_for_all_station[i]\n",
    "    lambda_i = [x for x in lambda_i for _ in range(period)]\n",
    "    mu_i = [x for x in mu_i for _ in range(period)]\n",
    "    lambda_i = np.array(lambda_i)\n",
    "    mu_i = np.array(mu_i)\n",
    "    unhappy_users = 0 \n",
    "    \n",
    "    for j in range(len(lambda_i)):\n",
    "        bike_number_at_end_j = x0 +(lambda_i[j] - mu_i[j])/period\n",
    "        \n",
    "        unhappy = max(bike_number_at_end_j, d) -d - \\\n",
    "            min(0, bike_number_at_end_j)\n",
    "        \n",
    "        x0 = max(min(bike_number_at_end_j,d),0)\n",
    "        \n",
    "        \n",
    "        unhappy_users +=unhappy\n",
    "    \n",
    "        \n",
    "    return unhappy_users"
   ]
  },
  {
   "cell_type": "markdown",
   "metadata": {},
   "source": [
    "## Function for Optimal value "
   ]
  },
  {
   "cell_type": "code",
   "execution_count": 20,
   "metadata": {},
   "outputs": [],
   "source": [
    "def optimal_x0(i, d,period):\n",
    "    \n",
    "    number_of_unhappy_for_all_x0 = []\n",
    "    for x0 in list(range(d+1)):\n",
    "        n = number_of_unhappy_user(i, d, x0, period=period)\n",
    "        \n",
    "        \n",
    "        number_of_unhappy_for_all_x0.append(n)\n",
    "     \n",
    "    arr = np.array(number_of_unhappy_for_all_x0)\n",
    "    min_indices = np.where(arr == arr.min())[0]\n",
    "   \n",
    "    median_value = math.floor(np.median(min_indices))\n",
    "    return median_value"
   ]
  },
  {
   "cell_type": "markdown",
   "metadata": {},
   "source": [
    "## extract a list of d"
   ]
  },
  {
   "cell_type": "code",
   "execution_count": 21,
   "metadata": {},
   "outputs": [],
   "source": [
    "capacity = [df1.loc[df1['short_name'] == station_id, 'capacity'].values[0]\n",
    "            for station_id in all_station_id]\n"
   ]
  },
  {
   "cell_type": "markdown",
   "metadata": {},
   "source": [
    "## Prediction for the optimal number of bikes in the fleet"
   ]
  },
  {
   "cell_type": "code",
   "execution_count": 22,
   "metadata": {},
   "outputs": [
    {
     "data": {
      "text/plain": [
       "[<matplotlib.lines.Line2D at 0x1c01d76d0>]"
      ]
     },
     "execution_count": 22,
     "metadata": {},
     "output_type": "execute_result"
    },
    {
     "data": {
      "image/png": "[encoded data removed]",
      "text/plain": [
       "<Figure size 640x480 with 1 Axes>"
      ]
     },
     "metadata": {},
     "output_type": "display_data"
    }
   ],
   "source": [
    "Optimal_values = []\n",
    "for i in range(number_of_station):\n",
    "    x = optimal_x0(i, capacity[i],period = p)\n",
    "    Optimal_values.append(x)\n",
    "plt.plot(capacity)\n",
    "plt.plot(Optimal_values)\n"
   ]
  },
  {
   "cell_type": "code",
   "execution_count": 23,
   "metadata": {},
   "outputs": [
    {
     "name": "stdout",
     "output_type": "stream",
     "text": [
      "29401\n"
     ]
    }
   ],
   "source": [
    "print(sum(Optimal_values))"
   ]
  },
  {
   "cell_type": "markdown",
   "metadata": {},
   "source": [
    "## Bikes need to be moved "
   ]
  },
  {
   "cell_type": "code",
   "execution_count": 24,
   "metadata": {},
   "outputs": [],
   "source": [
    "def net_flow(i, d, x0, period):\n",
    "    lambda_i = bikein_for_all_station[i]\n",
    "    mu_i = bikeout_for_all_station[i]\n",
    "    lambda_i = [x for x in lambda_i for _ in range(period)]\n",
    "    mu_i = [x for x in mu_i for _ in range(period)]\n",
    "    X = [x0]\n",
    "\n",
    "    for j in range(len(lambda_i)):\n",
    "        x = min(d, max(0, x0 + 1/period * (lambda_i[j]-mu_i[j])))\n",
    "        X.append(x)\n",
    "        x0 = x\n",
    "    return X[-1] - X[0]"
   ]
  },
  {
   "cell_type": "code",
   "execution_count": 25,
   "metadata": {},
   "outputs": [
    {
     "data": {
      "text/plain": [
       "[<matplotlib.lines.Line2D at 0x1d1656190>]"
      ]
     },
     "execution_count": 25,
     "metadata": {},
     "output_type": "execute_result"
    },
    {
     "data": {
      "image/png": "[encoded data removed]",
      "text/plain": [
       "<Figure size 640x480 with 1 Axes>"
      ]
     },
     "metadata": {},
     "output_type": "display_data"
    }
   ],
   "source": [
    "Net_flow = []\n",
    "for i in range(number_of_station):\n",
    "    x = net_flow(i, capacity[i], Optimal_values[i], period=p)\n",
    "    Net_flow.append(x)\n",
    "plt.plot(Net_flow)\n"
   ]
  },
  {
   "cell_type": "code",
   "execution_count": 26,
   "metadata": {},
   "outputs": [
    {
     "name": "stdout",
     "output_type": "stream",
     "text": [
      "3.8095238095196438\n"
     ]
    }
   ],
   "source": [
    "print(sum(Net_flow))"
   ]
  },
  {
   "cell_type": "markdown",
   "metadata": {},
   "source": [
    "## Predicted number of outages"
   ]
  },
  {
   "cell_type": "code",
   "execution_count": 27,
   "metadata": {},
   "outputs": [
    {
     "name": "stdout",
     "output_type": "stream",
     "text": [
      "516 103.23809523809524\n",
      "771 130.95238095238093\n",
      "772 148.0952380952381\n",
      "903 1.0\n",
      "1229 54.90476190476191\n"
     ]
    },
    {
     "data": {
      "text/plain": [
       "[<matplotlib.lines.Line2D at 0x1c591a5d0>]"
      ]
     },
     "execution_count": 27,
     "metadata": {},
     "output_type": "execute_result"
    },
    {
     "data": {
      "image/png": "[encoded data removed]",
      "text/plain": [
       "<Figure size 640x480 with 1 Axes>"
      ]
     },
     "metadata": {},
     "output_type": "display_data"
    }
   ],
   "source": [
    "number_of_outage = []\n",
    "for i in range(number_of_station):\n",
    "    x = number_of_unhappy_user(i, capacity[i], Optimal_values[i], period=p)\n",
    "    number_of_outage.append(x)\n",
    "    if  x > 0 :\n",
    "        print(i,x)\n",
    "plt.plot(number_of_outage)"
   ]
  },
  {
   "cell_type": "code",
   "execution_count": 28,
   "metadata": {},
   "outputs": [
    {
     "name": "stdout",
     "output_type": "stream",
     "text": [
      "438.1904761904762\n"
     ]
    }
   ],
   "source": [
    "print(sum(number_of_outage))"
   ]
  },
  {
   "cell_type": "markdown",
   "metadata": {},
   "source": [
    "## Points Values"
   ]
  },
  {
   "cell_type": "code",
   "execution_count": 29,
   "metadata": {},
   "outputs": [],
   "source": [
    "def number_of_unhappy_user_till_end(i, d, x0, t,period=p):\n",
    "    lambda_i = bikein_for_all_station[i][t-5:]\n",
    "    mu_i = bikeout_for_all_station[i][t-5:]\n",
    "    lambda_i = [x for x in lambda_i for _ in range(period)]\n",
    "    mu_i = [x for x in mu_i for _ in range(period)]\n",
    "    X = [x0]\n",
    "    for j in range(len(lambda_i)):\n",
    "        x = min(d, max(0, x0 + 1/period * (lambda_i[j]-mu_i[j])))\n",
    "        X.append(x)\n",
    "        x0 = x\n",
    "    y = 0\n",
    "    for j in range(len(lambda_i)):\n",
    "        y_j = max(X[j]+1/period*(lambda_i[j]-mu_i[j])-d, 0) - \\\n",
    "            min(0, X[j]+1/period*(lambda_i[j]-mu_i[j]))\n",
    "        \n",
    "        y = y+y_j\n",
    "    return y"
   ]
  },
  {
   "cell_type": "code",
   "execution_count": 30,
   "metadata": {},
   "outputs": [],
   "source": [
    "status_at_2pm = [x // 2 for x in capacity]"
   ]
  },
  {
   "cell_type": "code",
   "execution_count": 31,
   "metadata": {},
   "outputs": [],
   "source": [
    "def Point(t,status, period ):\n",
    "    \n",
    "    Point = []\n",
    "    for i in range(number_of_station):\n",
    "        a = number_of_unhappy_user_till_end(i, capacity[i], status[i]-1,t, period=period)\n",
    "        b = number_of_unhappy_user_till_end(i, capacity[i], status[i], t, period=period)\n",
    "        c = number_of_unhappy_user_till_end(i, capacity[i], status[i]+1,t,  period=period)\n",
    "        if b == min(a,b,c):\n",
    "        \n",
    "            Point.append(0)\n",
    "        elif a == min(a,b,c):\n",
    "            Point.append(a-b)\n",
    "        else:\n",
    "            Point.append(b-c)\n",
    "\n",
    "    return Point"
   ]
  },
  {
   "cell_type": "code",
   "execution_count": 32,
   "metadata": {},
   "outputs": [
    {
     "data": {
      "text/plain": [
       "[<matplotlib.lines.Line2D at 0x162412e10>]"
      ]
     },
     "execution_count": 32,
     "metadata": {},
     "output_type": "execute_result"
    },
    {
     "data": {
      "image/png": "[encoded data removed]",
      "text/plain": [
       "<Figure size 640x480 with 1 Axes>"
      ]
     },
     "metadata": {},
     "output_type": "display_data"
    }
   ],
   "source": [
    "plt.plot(Point(14,status_at_2pm, period = p))"
   ]
  },
  {
   "cell_type": "code",
   "execution_count": 152,
   "metadata": {},
   "outputs": [
    {
     "data": {
      "text/plain": [
       "[6146.01,\n",
       " 6660.07,\n",
       " 6660.05,\n",
       " 'HB301',\n",
       " 'JC055',\n",
       " 6155.03,\n",
       " 6668.06,\n",
       " 'JC027',\n",
       " 8212.01,\n",
       " 6677.03,\n",
       " 'JC095',\n",
       " 6171.02,\n",
       " 'HB505',\n",
       " 6683.01,\n",
       " 'JC035',\n",
       " 'JC008',\n",
       " 8741.01,\n",
       " 6180.05,\n",
       " 'JC115',\n",
       " 6692.03,\n",
       " 3113.1,\n",
       " 6188.04,\n",
       " 6701.05,\n",
       " 7727.08,\n",
       " 8756.07,\n",
       " 6709.05,\n",
       " 6198.03,\n",
       " 'JC072',\n",
       " 8248.05,\n",
       " 6709.01,\n",
       " 6718.02,\n",
       " 6207.06,\n",
       " 3648.08,\n",
       " 'JC074',\n",
       " 6724.01,\n",
       " 6213.01,\n",
       " 6727.02,\n",
       " 8776.02,\n",
       " 'JC098',\n",
       " 3148.09,\n",
       " 6733.01,\n",
       " 6222.04,\n",
       " 'HB203',\n",
       " 8272.01,\n",
       " 8272.08,\n",
       " 8786.01,\n",
       " 'HB202',\n",
       " 'HB101',\n",
       " 'JC077',\n",
       " 'JC014',\n",
       " 6231.01,\n",
       " 6741.03,\n",
       " 7256.01,\n",
       " 'JC024',\n",
       " 6748.04,\n",
       " 6239.08,\n",
       " 6240.05,\n",
       " 'JC075',\n",
       " 8802.05,\n",
       " 'JC097',\n",
       " 6757.03,\n",
       " 8806.01,\n",
       " 3688.06,\n",
       " 'JC110',\n",
       " 'JC003',\n",
       " 6248.08,\n",
       " 6249.02,\n",
       " 'HB506',\n",
       " 6763.08,\n",
       " 8815.01,\n",
       " 'JC063',\n",
       " 'JC093',\n",
       " 8306.03,\n",
       " 6255.02,\n",
       " 6258.02,\n",
       " 6772.11,\n",
       " 'JC081',\n",
       " 'JC103',\n",
       " 6264.06,\n",
       " 8828.02,\n",
       " 6780.06,\n",
       " 8831.03,\n",
       " 6273.03,\n",
       " 8835.05,\n",
       " 6787.02,\n",
       " 8325.08,\n",
       " 8325.12,\n",
       " 3719.02,\n",
       " 6793.01,\n",
       " 8330.05,\n",
       " 'JC102',\n",
       " 8335.02,\n",
       " 6287.02,\n",
       " 8849.03,\n",
       " 6290.06,\n",
       " 6290.13,\n",
       " 6295.07,\n",
       " 8346.06,\n",
       " 8859.03,\n",
       " 6810.01,\n",
       " 8862.02,\n",
       " 6304.04,\n",
       " 6817.15,\n",
       " 8866.01,\n",
       " 'HB304',\n",
       " 4771.07,\n",
       " 'HB407',\n",
       " 3751.05,\n",
       " 'HB610',\n",
       " 6825.03,\n",
       " 'HB401',\n",
       " 6314.09,\n",
       " 8876.04,\n",
       " 6314.02,\n",
       " 8879.03,\n",
       " 8879.02,\n",
       " 8369.08,\n",
       " 7344.01,\n",
       " 6323.11,\n",
       " 6323.04,\n",
       " 8374.02,\n",
       " 'JC032',\n",
       " 6840.02,\n",
       " 6329.06,\n",
       " 6332.06,\n",
       " 6332.09,\n",
       " 6848.04,\n",
       " 8897.05,\n",
       " 6337.09,\n",
       " 8387.03,\n",
       " 'JC082',\n",
       " 'JC109',\n",
       " 'JC022',\n",
       " 8392.02,\n",
       " 'HB305',\n",
       " 6346.02,\n",
       " 6855.02,\n",
       " 6356.01,\n",
       " 6869.06,\n",
       " 6869.1,\n",
       " 6365.1,\n",
       " 4830.02,\n",
       " 6877.06,\n",
       " 6877.05,\n",
       " 'HB503',\n",
       " 3300.04,\n",
       " 3300.06,\n",
       " 6371.03,\n",
       " 6374.05,\n",
       " 6885.01,\n",
       " 8427.05,\n",
       " 6380.1,\n",
       " 8430.03,\n",
       " 6383.06,\n",
       " 'JC019',\n",
       " 'JC076',\n",
       " 7409.04,\n",
       " 'HB611',\n",
       " 3318.05,\n",
       " 6390.05,\n",
       " 6905.02,\n",
       " 'JC065',\n",
       " 5887.03,\n",
       " 6399.06,\n",
       " 6913.03,\n",
       " 8451.07,\n",
       " 6405.03,\n",
       " 'JC051',\n",
       " 6408.08,\n",
       " 6921.04,\n",
       " 7945.03,\n",
       " 7945.07,\n",
       " 3341.06,\n",
       " 6414.07,\n",
       " 'HB501',\n",
       " 'JC059',\n",
       " 8467.03,\n",
       " 3350.04,\n",
       " 6423.03,\n",
       " 'HB103',\n",
       " 6941.03,\n",
       " 5920.03,\n",
       " 'HB302',\n",
       " 6433.01,\n",
       " 6949.04,\n",
       " 'JC002',\n",
       " 8489.06,\n",
       " 5930.02,\n",
       " 6442.08,\n",
       " 6448.07,\n",
       " 6451.07,\n",
       " 'HB601',\n",
       " 'JC105',\n",
       " 'HB201',\n",
       " 'JC080',\n",
       " 8505.08,\n",
       " 'HB105',\n",
       " 'JC020',\n",
       " 5945.01,\n",
       " 6457.06,\n",
       " 6970.02,\n",
       " 5953.03,\n",
       " 6465.04,\n",
       " 6978.04,\n",
       " 'JC084',\n",
       " 5962.04,\n",
       " 6475.07,\n",
       " 8526.03,\n",
       " 7504.19,\n",
       " 'HB602',\n",
       " 6490.02,\n",
       " 'JC038',\n",
       " 'JC107',\n",
       " 6493.03,\n",
       " 3423.1,\n",
       " 'JC078',\n",
       " 5987.03,\n",
       " 6499.06,\n",
       " 'JC108',\n",
       " 'JC009',\n",
       " 5995.07,\n",
       " 6509.07,\n",
       " 7023.09,\n",
       " 'JC104',\n",
       " 6005.04,\n",
       " 6518.08,\n",
       " 'HB102',\n",
       " 'HB303',\n",
       " 'HB603',\n",
       " 6524.09,\n",
       " 6524.01,\n",
       " 6014.01,\n",
       " 6527.07,\n",
       " 8060.01,\n",
       " 8064.03,\n",
       " 6020.02,\n",
       " 6533.02,\n",
       " 'HB408',\n",
       " 'JC052',\n",
       " 6028.01,\n",
       " 3982.01,\n",
       " 6542.05,\n",
       " 8080.01,\n",
       " 'JC116',\n",
       " 6037.02,\n",
       " 6552.07,\n",
       " 'JC006',\n",
       " 6047.03,\n",
       " 6561.01,\n",
       " 'JC018',\n",
       " 6053.01,\n",
       " 6567.03,\n",
       " 6056.02,\n",
       " 6570.06,\n",
       " 6062.03,\n",
       " 6576.07,\n",
       " 'JC099',\n",
       " 'HB502',\n",
       " 4534.06,\n",
       " 6070.05,\n",
       " 6585.11,\n",
       " 'JC013',\n",
       " 8123.06,\n",
       " 6080.07,\n",
       " 4033.16,\n",
       " 6594.02,\n",
       " 'HB404',\n",
       " 3526.04,\n",
       " 6090.03,\n",
       " 6603.06,\n",
       " 'JC094',\n",
       " 'HB409',\n",
       " 3535.03,\n",
       " 6096.01,\n",
       " 6609.03,\n",
       " 6099.02,\n",
       " 6612.09,\n",
       " 4054.06,\n",
       " 'JC023',\n",
       " 6105.02,\n",
       " 6618.02,\n",
       " 8672.05,\n",
       " 6113.07,\n",
       " 'HB609',\n",
       " 'JC034',\n",
       " 6627.12,\n",
       " 6123.02,\n",
       " 'HB608',\n",
       " 6636.04,\n",
       " 6642.08,\n",
       " 'JC066',\n",
       " 8692.04,\n",
       " 'JC057',\n",
       " 'HB402',\n",
       " 6645.06,\n",
       " 3576.1,\n",
       " 6138.02,\n",
       " 6651.01]"
      ]
     },
     "execution_count": 152,
     "metadata": {},
     "output_type": "execute_result"
    }
   ],
   "source": [
    "non_numeric_values1 # data in NJ (in blue)\n",
    "all_station_id # correct data (in black)\n",
    "difference # data in df0 but not in capacity data (in red)\n",
    "difference1 # data in df1 but not df0 (in pink)\n"
   ]
  },
  {
   "cell_type": "code",
   "execution_count": 208,
   "metadata": {},
   "outputs": [
    {
     "name": "stderr",
     "output_type": "stream",
     "text": [
      "/var/folders/kd/fd9nkzkd44lc1yw7pn5qkljc0000gn/T/ipykernel_21442/1735465058.py:1: DtypeWarning: Columns (5,7) have mixed types. Specify dtype option on import or set low_memory=False.\n",
      "  data0 = pd.read_csv('202307-citibike-tripdata.csv')\n"
     ]
    }
   ],
   "source": [
    "data0 = pd.read_csv('202307-citibike-tripdata.csv')\n",
    "df0_all = pd.DataFrame(data0)\n",
    "df0_all['start_station_id'] = [float(num_str) if str(num_str).replace(\n",
    "    '.', '', 1).isdigit() else num_str for num_str in df0_all['start_station_id']]\n",
    "df0_all['end_station_id'] = [float(num_str) if str(num_str).replace(\n",
    "    '.', '', 1).isdigit() else num_str for num_str in df0_all['end_station_id']]"
   ]
  },
  {
   "cell_type": "code",
   "execution_count": 209,
   "metadata": {},
   "outputs": [
    {
     "data": {
      "text/html": [
       "<div>\n",
       "<style scoped>\n",
       "    .dataframe tbody tr th:only-of-type {\n",
       "        vertical-align: middle;\n",
       "    }\n",
       "\n",
       "    .dataframe tbody tr th {\n",
       "        vertical-align: top;\n",
       "    }\n",
       "\n",
       "    .dataframe thead th {\n",
       "        text-align: right;\n",
       "    }\n",
       "</style>\n",
       "<table border=\"1\" class=\"dataframe\">\n",
       "  <thead>\n",
       "    <tr style=\"text-align: right;\">\n",
       "      <th></th>\n",
       "      <th>short_name</th>\n",
       "      <th>lat</th>\n",
       "      <th>lon</th>\n",
       "    </tr>\n",
       "  </thead>\n",
       "  <tbody>\n",
       "    <tr>\n",
       "      <th>0</th>\n",
       "      <td>7756.1</td>\n",
       "      <td>40.811432</td>\n",
       "      <td>-73.951878</td>\n",
       "    </tr>\n",
       "    <tr>\n",
       "      <th>1</th>\n",
       "      <td>7670.09</td>\n",
       "      <td>40.804372</td>\n",
       "      <td>-73.951475</td>\n",
       "    </tr>\n",
       "    <tr>\n",
       "      <th>2</th>\n",
       "      <td>8033.09</td>\n",
       "      <td>40.827075</td>\n",
       "      <td>-73.945909</td>\n",
       "    </tr>\n",
       "    <tr>\n",
       "      <th>3</th>\n",
       "      <td>7981.16</td>\n",
       "      <td>40.824814</td>\n",
       "      <td>-73.951868</td>\n",
       "    </tr>\n",
       "    <tr>\n",
       "      <th>4</th>\n",
       "      <td>7286.01</td>\n",
       "      <td>40.781257</td>\n",
       "      <td>-73.949838</td>\n",
       "    </tr>\n",
       "    <tr>\n",
       "      <th>...</th>\n",
       "      <td>...</td>\n",
       "      <td>...</td>\n",
       "      <td>...</td>\n",
       "    </tr>\n",
       "    <tr>\n",
       "      <th>1948</th>\n",
       "      <td>190 Morgan</td>\n",
       "      <td>40.711072</td>\n",
       "      <td>-73.932096</td>\n",
       "    </tr>\n",
       "    <tr>\n",
       "      <th>1949</th>\n",
       "      <td>JC076</td>\n",
       "      <td>40.721630</td>\n",
       "      <td>-74.049968</td>\n",
       "    </tr>\n",
       "    <tr>\n",
       "      <th>1950</th>\n",
       "      <td>HB202</td>\n",
       "      <td>40.752961</td>\n",
       "      <td>-74.024353</td>\n",
       "    </tr>\n",
       "    <tr>\n",
       "      <th>1951</th>\n",
       "      <td>JC095</td>\n",
       "      <td>40.722104</td>\n",
       "      <td>-74.071455</td>\n",
       "    </tr>\n",
       "    <tr>\n",
       "      <th>1952</th>\n",
       "      <td>JC052</td>\n",
       "      <td>40.711242</td>\n",
       "      <td>-74.055701</td>\n",
       "    </tr>\n",
       "  </tbody>\n",
       "</table>\n",
       "<p>1953 rows × 3 columns</p>\n",
       "</div>"
      ],
      "text/plain": [
       "      short_name        lat        lon\n",
       "0         7756.1  40.811432 -73.951878\n",
       "1        7670.09  40.804372 -73.951475\n",
       "2        8033.09  40.827075 -73.945909\n",
       "3        7981.16  40.824814 -73.951868\n",
       "4        7286.01  40.781257 -73.949838\n",
       "...          ...        ...        ...\n",
       "1948  190 Morgan  40.711072 -73.932096\n",
       "1949       JC076  40.721630 -74.049968\n",
       "1950       HB202  40.752961 -74.024353\n",
       "1951       JC095  40.722104 -74.071455\n",
       "1952       JC052  40.711242 -74.055701\n",
       "\n",
       "[1953 rows x 3 columns]"
      ]
     },
     "execution_count": 209,
     "metadata": {},
     "output_type": "execute_result"
    }
   ],
   "source": [
    "start_stations_in_df0 = df0_all[['start_station_id', 'start_lat', 'start_lng']].copy().drop_duplicates(['start_station_id'])\n",
    "start_stations_in_df0.rename(columns={'start_station_id': 'short_name', 'start_lat': 'lat', 'start_lng':'lon'}, inplace=True)\n",
    "\n",
    "end_stations_in_df0 = df0_all[['end_station_id', 'end_lat', 'end_lng']].copy().drop_duplicates(['end_station_id'])\n",
    "end_stations_in_df0.rename(columns={'end_station_id': 'short_name', 'end_lat': 'lat', 'end_lng':'lon'}, inplace=True)\n",
    "\n",
    "stations_in_df0 = pd.concat([start_stations_in_df0, end_stations_in_df0], ignore_index=True).drop_duplicates('short_name').reset_index(drop=True)\n",
    "stations_in_df0"
   ]
  },
  {
   "cell_type": "code",
   "execution_count": 210,
   "metadata": {},
   "outputs": [
    {
     "data": {
      "text/html": [
       "<div>\n",
       "<style scoped>\n",
       "    .dataframe tbody tr th:only-of-type {\n",
       "        vertical-align: middle;\n",
       "    }\n",
       "\n",
       "    .dataframe tbody tr th {\n",
       "        vertical-align: top;\n",
       "    }\n",
       "\n",
       "    .dataframe thead th {\n",
       "        text-align: right;\n",
       "    }\n",
       "</style>\n",
       "<table border=\"1\" class=\"dataframe\">\n",
       "  <thead>\n",
       "    <tr style=\"text-align: right;\">\n",
       "      <th></th>\n",
       "      <th>short_name</th>\n",
       "      <th>lat</th>\n",
       "      <th>lon</th>\n",
       "      <th>tag</th>\n",
       "    </tr>\n",
       "  </thead>\n",
       "  <tbody>\n",
       "    <tr>\n",
       "      <th>0</th>\n",
       "      <td>HB101</td>\n",
       "      <td>40.735938</td>\n",
       "      <td>-74.030305</td>\n",
       "      <td>non_numeric</td>\n",
       "    </tr>\n",
       "    <tr>\n",
       "      <th>1</th>\n",
       "      <td>HB102</td>\n",
       "      <td>40.736068</td>\n",
       "      <td>-74.029127</td>\n",
       "      <td>non_numeric</td>\n",
       "    </tr>\n",
       "    <tr>\n",
       "      <th>2</th>\n",
       "      <td>HB103</td>\n",
       "      <td>40.736982</td>\n",
       "      <td>-74.027781</td>\n",
       "      <td>non_numeric</td>\n",
       "    </tr>\n",
       "    <tr>\n",
       "      <th>3</th>\n",
       "      <td>HB105</td>\n",
       "      <td>40.737360</td>\n",
       "      <td>-74.030970</td>\n",
       "      <td>non_numeric</td>\n",
       "    </tr>\n",
       "    <tr>\n",
       "      <th>4</th>\n",
       "      <td>HB201</td>\n",
       "      <td>40.750604</td>\n",
       "      <td>-74.024020</td>\n",
       "      <td>non_numeric</td>\n",
       "    </tr>\n",
       "    <tr>\n",
       "      <th>...</th>\n",
       "      <td>...</td>\n",
       "      <td>...</td>\n",
       "      <td>...</td>\n",
       "      <td>...</td>\n",
       "    </tr>\n",
       "    <tr>\n",
       "      <th>65</th>\n",
       "      <td>JC105</td>\n",
       "      <td>40.735208</td>\n",
       "      <td>-74.046964</td>\n",
       "      <td>non_numeric</td>\n",
       "    </tr>\n",
       "    <tr>\n",
       "      <th>66</th>\n",
       "      <td>JC109</td>\n",
       "      <td>40.731009</td>\n",
       "      <td>-74.064437</td>\n",
       "      <td>non_numeric</td>\n",
       "    </tr>\n",
       "    <tr>\n",
       "      <th>67</th>\n",
       "      <td>JC110</td>\n",
       "      <td>40.715391</td>\n",
       "      <td>-74.049692</td>\n",
       "      <td>non_numeric</td>\n",
       "    </tr>\n",
       "    <tr>\n",
       "      <th>68</th>\n",
       "      <td>JC115</td>\n",
       "      <td>40.719410</td>\n",
       "      <td>-74.043090</td>\n",
       "      <td>non_numeric</td>\n",
       "    </tr>\n",
       "    <tr>\n",
       "      <th>69</th>\n",
       "      <td>JC116</td>\n",
       "      <td>40.716366</td>\n",
       "      <td>-74.034344</td>\n",
       "      <td>non_numeric</td>\n",
       "    </tr>\n",
       "  </tbody>\n",
       "</table>\n",
       "<p>70 rows × 4 columns</p>\n",
       "</div>"
      ],
      "text/plain": [
       "   short_name        lat        lon          tag\n",
       "0       HB101  40.735938 -74.030305  non_numeric\n",
       "1       HB102  40.736068 -74.029127  non_numeric\n",
       "2       HB103  40.736982 -74.027781  non_numeric\n",
       "3       HB105  40.737360 -74.030970  non_numeric\n",
       "4       HB201  40.750604 -74.024020  non_numeric\n",
       "..        ...        ...        ...          ...\n",
       "65      JC105  40.735208 -74.046964  non_numeric\n",
       "66      JC109  40.731009 -74.064437  non_numeric\n",
       "67      JC110  40.715391 -74.049692  non_numeric\n",
       "68      JC115  40.719410 -74.043090  non_numeric\n",
       "69      JC116  40.716366 -74.034344  non_numeric\n",
       "\n",
       "[70 rows x 4 columns]"
      ]
     },
     "execution_count": 210,
     "metadata": {},
     "output_type": "execute_result"
    }
   ],
   "source": [
    "df_non_numeric = df1[df1['short_name'].isin(non_numeric_values1)].sort_values(by='short_name').reset_index()[['short_name','lat','lon']]\n",
    "df_non_numeric['tag'] = 'non_numeric'\n",
    "df_non_numeric"
   ]
  },
  {
   "cell_type": "code",
   "execution_count": 211,
   "metadata": {},
   "outputs": [
    {
     "data": {
      "text/plain": [
       "(1851, 4)"
      ]
     },
     "execution_count": 211,
     "metadata": {},
     "output_type": "execute_result"
    }
   ],
   "source": [
    "df_stations = df1[df1['short_name'].isin(all_station_id)].sort_values(by='short_name').reset_index()[['short_name','lat','lon']]\n",
    "df_stations['tag'] = 'all_stations'\n",
    "df_stations.shape"
   ]
  },
  {
   "cell_type": "code",
   "execution_count": 212,
   "metadata": {},
   "outputs": [
    {
     "data": {
      "text/plain": [
       "(20, 4)"
      ]
     },
     "execution_count": 212,
     "metadata": {},
     "output_type": "execute_result"
    }
   ],
   "source": [
    "df_difference = stations_in_df0[stations_in_df0['short_name'].isin(difference)].sort_values(by='short_name').reset_index()[['short_name','lat','lon']]\n",
    "df_difference['tag'] = 'diff'\n",
    "df_difference.shape"
   ]
  },
  {
   "cell_type": "code",
   "execution_count": 213,
   "metadata": {},
   "outputs": [
    {
     "data": {
      "text/plain": [
       "(298, 4)"
      ]
     },
     "execution_count": 213,
     "metadata": {},
     "output_type": "execute_result"
    }
   ],
   "source": [
    "df_difference1 = df1[df1['short_name'].isin(difference1)].reset_index()[['short_name','lat','lon']]\n",
    "df_difference1['tag'] = 'diff1'\n",
    "df_difference1.shape"
   ]
  },
  {
   "cell_type": "code",
   "execution_count": 223,
   "metadata": {},
   "outputs": [],
   "source": [
    "# Show the point value on NYC map\n",
    "from bokeh.plotting import figure, show\n",
    "from bokeh.tile_providers import get_provider, Vendors\n",
    "from bokeh.models import (Circle, MultiLine, StaticLayoutProvider,ColumnDataSource)\n",
    "\n",
    "def plotStations(dfn, title='Plot of Graph'):\n",
    "    \"\"\"\n",
    "    Plots a static map of a Citi Bike Station.\n",
    "    :param nodes: pandas df with 'name', 'x', 'y' cols\n",
    "                  'x' and 'y' treated as mercator coords\n",
    "    :param title: str of graph title\n",
    "    \"\"\"\n",
    "    # extract data\n",
    "    node_ids = dfn.short_name.values.tolist()\n",
    "    x = dfn.x.values.tolist()\n",
    "    y = dfn.y.values.tolist()\n",
    "    \n",
    "    # get plot boundaries\n",
    "    min_x, max_x = min(dfn.x)+2000, max(dfn.x)-2000\n",
    "    min_y, max_y = min(dfn.y)+2000, max(dfn.y)-2000\n",
    "\n",
    "    # show the gird of the graph\n",
    "    plot = figure(x_range=(min_x, max_x), y_range=(min_y, max_y),\n",
    "                  x_axis_type=\"mercator\", y_axis_type=\"mercator\",\n",
    "                  title=title,\n",
    "                  width=600, height=420,\n",
    "                  toolbar_location=None, tools=[])\n",
    "\n",
    "    # get NY map\n",
    "    plot.add_tile(get_provider(Vendors.CARTODBPOSITRON_RETINA))\n",
    "    \n",
    "    # add nodes\n",
    "    for i in range(dfn.shape[0]):\n",
    "        if dfn['tag'][i] == 'non_numeric':  \n",
    "            source = ColumnDataSource(dfn.iloc[i:i+1])\n",
    "            poi = Circle(x=\"x\", y=\"y\", size=2.5, line_color='white',\n",
    "                         fill_color=\"blue\", line_width=0.1,fill_alpha = 1)\n",
    "            plot.add_glyph(source, poi)\n",
    "        elif dfn['tag'][i] == 'all_stations':  \n",
    "            source = ColumnDataSource(dfn.iloc[i:i+1])\n",
    "            poi = Circle(x=\"x\", y=\"y\", size=2.5, line_color='white',\n",
    "                         fill_color=\"black\", line_width=0.1, fill_alpha = 1)\n",
    "            plot.add_glyph(source, poi)\n",
    "        elif dfn['tag'][i] == 'diff':  \n",
    "            source = ColumnDataSource(dfn.iloc[i:i+1])\n",
    "            poi = Circle(x=\"x\", y=\"y\", size=4.5, line_color='white',\n",
    "                         fill_color=\"red\", line_width=0.1,fill_alpha = 0)\n",
    "            plot.add_glyph(source, poi)\n",
    "        else:  \n",
    "            source = ColumnDataSource(dfn.iloc[i:i+1])\n",
    "            poi = Circle(x=\"x\", y=\"y\", size=4.5, line_color='white',\n",
    "                         fill_color=\"green\", line_width=0.1,fill_alpha = 0)\n",
    "            plot.add_glyph(source, poi)\n",
    "            \n",
    "    show(plot)"
   ]
  },
  {
   "cell_type": "code",
   "execution_count": 215,
   "metadata": {},
   "outputs": [],
   "source": [
    "wgs84 = Proj(init='epsg:4326')  # WGS84 coordinate system (latitude and longitude)\n",
    "mercator = Proj(init='epsg:3857')  # Mercator coordinate system\n",
    "\n",
    "df_plot = pd.concat([df_non_numeric, df_stations, df_difference, df_difference1], ignore_index=True)\n",
    "#df_plot = stations_in_df0\n",
    "df_plot[['x', 'y']] = df_plot.apply(lambda row: transform(wgs84, mercator, row['lon'], row['lat']), axis=1, result_type='expand')\n"
   ]
  },
  {
   "cell_type": "code",
   "execution_count": 224,
   "metadata": {},
   "outputs": [
    {
     "name": "stderr",
     "output_type": "stream",
     "text": [
      "BokehDeprecationWarning: 'get_provider' was deprecated in Bokeh 3.0.0 and will be removed, use 'add_tile directly' instead.\n"
     ]
    }
   ],
   "source": [
    "plotStations(df_plot, title=\"NYC Citi Bike Stations\")"
   ]
  },
  {
   "cell_type": "code",
   "execution_count": 150,
   "metadata": {},
   "outputs": [
    {
     "data": {
      "text/html": [
       "<div>\n",
       "<style scoped>\n",
       "    .dataframe tbody tr th:only-of-type {\n",
       "        vertical-align: middle;\n",
       "    }\n",
       "\n",
       "    .dataframe tbody tr th {\n",
       "        vertical-align: top;\n",
       "    }\n",
       "\n",
       "    .dataframe thead th {\n",
       "        text-align: right;\n",
       "    }\n",
       "</style>\n",
       "<table border=\"1\" class=\"dataframe\">\n",
       "  <thead>\n",
       "    <tr style=\"text-align: right;\">\n",
       "      <th></th>\n",
       "      <th>short_name</th>\n",
       "      <th>lat</th>\n",
       "      <th>lon</th>\n",
       "      <th>tag</th>\n",
       "      <th>x</th>\n",
       "      <th>y</th>\n",
       "    </tr>\n",
       "  </thead>\n",
       "  <tbody>\n",
       "    <tr>\n",
       "      <th>0</th>\n",
       "      <td>7756.1</td>\n",
       "      <td>40.811432</td>\n",
       "      <td>-73.951878</td>\n",
       "      <td>plot</td>\n",
       "      <td>-8.232285e+06</td>\n",
       "      <td>4.984568e+06</td>\n",
       "    </tr>\n",
       "    <tr>\n",
       "      <th>1</th>\n",
       "      <td>7670.09</td>\n",
       "      <td>40.804372</td>\n",
       "      <td>-73.951475</td>\n",
       "      <td>plot</td>\n",
       "      <td>-8.232241e+06</td>\n",
       "      <td>4.983529e+06</td>\n",
       "    </tr>\n",
       "    <tr>\n",
       "      <th>2</th>\n",
       "      <td>8033.09</td>\n",
       "      <td>40.827075</td>\n",
       "      <td>-73.945909</td>\n",
       "      <td>plot</td>\n",
       "      <td>-8.231621e+06</td>\n",
       "      <td>4.986869e+06</td>\n",
       "    </tr>\n",
       "    <tr>\n",
       "      <th>3</th>\n",
       "      <td>7981.16</td>\n",
       "      <td>40.824814</td>\n",
       "      <td>-73.951868</td>\n",
       "      <td>plot</td>\n",
       "      <td>-8.232284e+06</td>\n",
       "      <td>4.986536e+06</td>\n",
       "    </tr>\n",
       "    <tr>\n",
       "      <th>4</th>\n",
       "      <td>7286.01</td>\n",
       "      <td>40.781257</td>\n",
       "      <td>-73.949838</td>\n",
       "      <td>plot</td>\n",
       "      <td>-8.232058e+06</td>\n",
       "      <td>4.980130e+06</td>\n",
       "    </tr>\n",
       "    <tr>\n",
       "      <th>...</th>\n",
       "      <td>...</td>\n",
       "      <td>...</td>\n",
       "      <td>...</td>\n",
       "      <td>...</td>\n",
       "      <td>...</td>\n",
       "      <td>...</td>\n",
       "    </tr>\n",
       "    <tr>\n",
       "      <th>1948</th>\n",
       "      <td>190 Morgan</td>\n",
       "      <td>40.711072</td>\n",
       "      <td>-73.932096</td>\n",
       "      <td>plot</td>\n",
       "      <td>-8.230083e+06</td>\n",
       "      <td>4.969818e+06</td>\n",
       "    </tr>\n",
       "    <tr>\n",
       "      <th>1949</th>\n",
       "      <td>JC076</td>\n",
       "      <td>40.721630</td>\n",
       "      <td>-74.049968</td>\n",
       "      <td>plot</td>\n",
       "      <td>-8.243205e+06</td>\n",
       "      <td>4.971368e+06</td>\n",
       "    </tr>\n",
       "    <tr>\n",
       "      <th>1950</th>\n",
       "      <td>HB202</td>\n",
       "      <td>40.752961</td>\n",
       "      <td>-74.024353</td>\n",
       "      <td>plot</td>\n",
       "      <td>-8.240353e+06</td>\n",
       "      <td>4.975971e+06</td>\n",
       "    </tr>\n",
       "    <tr>\n",
       "      <th>1951</th>\n",
       "      <td>JC095</td>\n",
       "      <td>40.722104</td>\n",
       "      <td>-74.071455</td>\n",
       "      <td>plot</td>\n",
       "      <td>-8.245597e+06</td>\n",
       "      <td>4.971438e+06</td>\n",
       "    </tr>\n",
       "    <tr>\n",
       "      <th>1952</th>\n",
       "      <td>JC052</td>\n",
       "      <td>40.711242</td>\n",
       "      <td>-74.055701</td>\n",
       "      <td>plot</td>\n",
       "      <td>-8.243843e+06</td>\n",
       "      <td>4.969843e+06</td>\n",
       "    </tr>\n",
       "  </tbody>\n",
       "</table>\n",
       "<p>1953 rows × 6 columns</p>\n",
       "</div>"
      ],
      "text/plain": [
       "      short_name        lat        lon   tag             x             y\n",
       "0         7756.1  40.811432 -73.951878  plot -8.232285e+06  4.984568e+06\n",
       "1        7670.09  40.804372 -73.951475  plot -8.232241e+06  4.983529e+06\n",
       "2        8033.09  40.827075 -73.945909  plot -8.231621e+06  4.986869e+06\n",
       "3        7981.16  40.824814 -73.951868  plot -8.232284e+06  4.986536e+06\n",
       "4        7286.01  40.781257 -73.949838  plot -8.232058e+06  4.980130e+06\n",
       "...          ...        ...        ...   ...           ...           ...\n",
       "1948  190 Morgan  40.711072 -73.932096  plot -8.230083e+06  4.969818e+06\n",
       "1949       JC076  40.721630 -74.049968  plot -8.243205e+06  4.971368e+06\n",
       "1950       HB202  40.752961 -74.024353  plot -8.240353e+06  4.975971e+06\n",
       "1951       JC095  40.722104 -74.071455  plot -8.245597e+06  4.971438e+06\n",
       "1952       JC052  40.711242 -74.055701  plot -8.243843e+06  4.969843e+06\n",
       "\n",
       "[1953 rows x 6 columns]"
      ]
     },
     "execution_count": 150,
     "metadata": {},
     "output_type": "execute_result"
    }
   ],
   "source": [
    "df_plot"
   ]
  },
  {
   "cell_type": "code",
   "execution_count": 138,
   "metadata": {},
   "outputs": [
    {
     "data": {
      "text/html": [
       "<div>\n",
       "<style scoped>\n",
       "    .dataframe tbody tr th:only-of-type {\n",
       "        vertical-align: middle;\n",
       "    }\n",
       "\n",
       "    .dataframe tbody tr th {\n",
       "        vertical-align: top;\n",
       "    }\n",
       "\n",
       "    .dataframe thead th {\n",
       "        text-align: right;\n",
       "    }\n",
       "</style>\n",
       "<table border=\"1\" class=\"dataframe\">\n",
       "  <thead>\n",
       "    <tr style=\"text-align: right;\">\n",
       "      <th></th>\n",
       "      <th>ride_id</th>\n",
       "      <th>rideable_type</th>\n",
       "      <th>started_at</th>\n",
       "      <th>ended_at</th>\n",
       "      <th>start_station_name</th>\n",
       "      <th>start_station_id</th>\n",
       "      <th>end_station_name</th>\n",
       "      <th>end_station_id</th>\n",
       "      <th>start_lat</th>\n",
       "      <th>start_lng</th>\n",
       "      <th>end_lat</th>\n",
       "      <th>end_lng</th>\n",
       "      <th>member_casual</th>\n",
       "    </tr>\n",
       "  </thead>\n",
       "  <tbody>\n",
       "    <tr>\n",
       "      <th>1585926</th>\n",
       "      <td>1850E34F47014689</td>\n",
       "      <td>classic_bike</td>\n",
       "      <td>2023-07-14 17:08:32</td>\n",
       "      <td>2023-07-14 17:13:19</td>\n",
       "      <td>Hoboken Terminal - Hudson St &amp; Hudson Pl</td>\n",
       "      <td>HB101</td>\n",
       "      <td>Hoboken Ave at Monmouth St</td>\n",
       "      <td>JC105</td>\n",
       "      <td>40.709700</td>\n",
       "      <td>-73.931225</td>\n",
       "      <td>40.735208</td>\n",
       "      <td>-74.046964</td>\n",
       "      <td>casual</td>\n",
       "    </tr>\n",
       "    <tr>\n",
       "      <th>1712746</th>\n",
       "      <td>F7894FD9117F3812</td>\n",
       "      <td>classic_bike</td>\n",
       "      <td>2023-07-11 08:26:41</td>\n",
       "      <td>2023-07-11 08:35:19</td>\n",
       "      <td>Hoboken Terminal - Hudson St &amp; Hudson Pl</td>\n",
       "      <td>HB101</td>\n",
       "      <td>Washington St</td>\n",
       "      <td>JC098</td>\n",
       "      <td>40.706883</td>\n",
       "      <td>-74.005536</td>\n",
       "      <td>40.724294</td>\n",
       "      <td>-74.035483</td>\n",
       "      <td>casual</td>\n",
       "    </tr>\n",
       "    <tr>\n",
       "      <th>3477041</th>\n",
       "      <td>944410E7BC4B4395</td>\n",
       "      <td>classic_bike</td>\n",
       "      <td>2023-07-12 10:21:40</td>\n",
       "      <td>2023-07-12 10:26:29</td>\n",
       "      <td>Hoboken Terminal - Hudson St &amp; Hudson Pl</td>\n",
       "      <td>HB101</td>\n",
       "      <td>Southwest Park - Jackson St &amp; Observer Hwy</td>\n",
       "      <td>HB401</td>\n",
       "      <td>40.728355</td>\n",
       "      <td>-74.011732</td>\n",
       "      <td>40.737551</td>\n",
       "      <td>-74.041664</td>\n",
       "      <td>member</td>\n",
       "    </tr>\n",
       "  </tbody>\n",
       "</table>\n",
       "</div>"
      ],
      "text/plain": [
       "                  ride_id rideable_type           started_at  \\\n",
       "1585926  1850E34F47014689  classic_bike  2023-07-14 17:08:32   \n",
       "1712746  F7894FD9117F3812  classic_bike  2023-07-11 08:26:41   \n",
       "3477041  944410E7BC4B4395  classic_bike  2023-07-12 10:21:40   \n",
       "\n",
       "                    ended_at                        start_station_name  \\\n",
       "1585926  2023-07-14 17:13:19  Hoboken Terminal - Hudson St & Hudson Pl   \n",
       "1712746  2023-07-11 08:35:19  Hoboken Terminal - Hudson St & Hudson Pl   \n",
       "3477041  2023-07-12 10:26:29  Hoboken Terminal - Hudson St & Hudson Pl   \n",
       "\n",
       "        start_station_id                            end_station_name  \\\n",
       "1585926            HB101                  Hoboken Ave at Monmouth St   \n",
       "1712746            HB101                               Washington St   \n",
       "3477041            HB101  Southwest Park - Jackson St & Observer Hwy   \n",
       "\n",
       "        end_station_id  start_lat  start_lng    end_lat    end_lng  \\\n",
       "1585926          JC105  40.709700 -73.931225  40.735208 -74.046964   \n",
       "1712746          JC098  40.706883 -74.005536  40.724294 -74.035483   \n",
       "3477041          HB401  40.728355 -74.011732  40.737551 -74.041664   \n",
       "\n",
       "        member_casual  \n",
       "1585926        casual  \n",
       "1712746        casual  \n",
       "3477041        member  "
      ]
     },
     "execution_count": 138,
     "metadata": {},
     "output_type": "execute_result"
    }
   ],
   "source": [
    "df0[df0['start_station_id']=='HB101']"
   ]
  }
 ],
 "metadata": {
  "kernelspec": {
   "display_name": "Python 3 (ipykernel)",
   "language": "python",
   "name": "python3"
  },
  "language_info": {
   "codemirror_mode": {
    "name": "ipython",
    "version": 3
   },
   "file_extension": ".py",
   "mimetype": "text/x-python",
   "name": "python",
   "nbconvert_exporter": "python",
   "pygments_lexer": "ipython3",
   "version": "3.11.4"
  }
 },
 "nbformat": 4,
 "nbformat_minor": 4
}
